{
 "cells": [
  {
   "cell_type": "code",
   "execution_count": null,
   "id": "6b833877-c427-44ad-87f7-e26b1baeb879",
   "metadata": {},
   "outputs": [
    {
     "name": "stdout",
     "output_type": "stream",
     "text": [
      "\n",
      "====== Welcome to the Car Rental Shop ======\n",
      "1. Display available cars\n",
      "2. Rent a car on hourly basis ($5/hour)\n",
      "3. Rent a car on daily basis ($120/day)\n",
      "4. Rent a car on weekly basis ($360/week)\n",
      "5. Return a car\n",
      "6. Exit\n",
      "===========================================\n"
     ]
    }
   ],
   "source": [
    "from car_rental import CarRental, Customer\n",
    "\n",
    "\n",
    "def main():\n",
    "    rentalShop = CarRental(stock=10)\n",
    "    customer = Customer()\n",
    "\n",
    "    while True:\n",
    "        print(\"\\n====== Welcome to the Car Rental Shop ======\")\n",
    "        print(\"1. Display available cars\")\n",
    "        print(\"2. Rent a car on hourly basis ($5/hour)\")\n",
    "        print(\"3. Rent a car on daily basis ($120/day)\")\n",
    "        print(\"4. Rent a car on weekly basis ($360/week)\")\n",
    "        print(\"5. Return a car\")\n",
    "        print(\"6. Exit\")\n",
    "        print(\"===========================================\")\n",
    "\n",
    "        choice = input(\"Enter your choice: \")\n",
    "\n",
    "        if choice == \"1\":\n",
    "            rentalShop.displayStock()\n",
    "\n",
    "        elif choice == \"2\":\n",
    "            if customer.requestCar():\n",
    "                rentalTime = rentalShop.rentCarOnHourlyBasis(customer.cars)\n",
    "                if rentalTime:\n",
    "                    customer.rentalTime = rentalTime\n",
    "                    customer.rentalBasis =6\n",
    "                    1\n",
    "\n",
    "        elif choice == \"3\":\n",
    "            if customer.requestCar():\n",
    "                rentalTime = rentalShop.rentCarOnDailyBasis(customer.cars)\n",
    "                if rentalTime:\n",
    "                    customer.rentalTime = rentalTime\n",
    "                    customer.rentalBasis = 2\n",
    "\n",
    "        elif choice == \"4\":\n",
    "            if customer.requestCar():\n",
    "                rentalTime = rentalShop.rentCarOnWeeklyBasis(customer.cars)\n",
    "                if rentalTime:\n",
    "                    customer.rentalTime = rentalTime\n",
    "                    customer.rentalBasis = 3\n",
    "\n",
    "        elif choice == \"5\":\n",
    "            request = customer.returnCar()\n",
    "            if request[0]:\n",
    "                rentalShop.returnCar(request)\n",
    "                customer.rentalBasis, customer.rentalTime, customer.cars = 0, 0, 0\n",
    "            else:\n",
    "                print(\"You did not rent a car.\")\n",
    "\n",
    "        elif choice == \"6\":\n",
    "            print(\"Thank you for using the Car Rental Shop. Goodbye!\")\n",
    "            break\n",
    "\n",
    "        else:\n",
    "            print(\"Invalid choice. Please try again.\")\n",
    "\n",
    "\n",
    "if __name__ == \"__main__\":\n",
    "    main()\n"
   ]
  },
  {
   "cell_type": "code",
   "execution_count": null,
   "id": "645b6505-ed45-4531-a1b7-5e565f913283",
   "metadata": {},
   "outputs": [],
   "source": []
  }
 ],
 "metadata": {
  "kernelspec": {
   "display_name": "Python 3 (ipykernel)",
   "language": "python",
   "name": "python3"
  },
  "language_info": {
   "codemirror_mode": {
    "name": "ipython",
    "version": 3
   },
   "file_extension": ".py",
   "mimetype": "text/x-python",
   "name": "python",
   "nbconvert_exporter": "python",
   "pygments_lexer": "ipython3",
   "version": "3.12.7"
  }
 },
 "nbformat": 4,
 "nbformat_minor": 5
}
